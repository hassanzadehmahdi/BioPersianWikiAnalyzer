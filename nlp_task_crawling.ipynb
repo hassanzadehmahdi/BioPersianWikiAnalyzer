{
  "cells": [
    {
      "cell_type": "markdown",
      "metadata": {},
      "source": [
        "<p style='direction:rtl'>\n",
        "در این فایل با استفاده از کتابخانه های beautifulsoup و requests دو تابع get_urls و get_page_data نوشته شده است.\n",
        "تابع get_urls برای گرفتن لینک صفحه هایی است که اطلاعات آن جمع‌آوری شده است.\n",
        "تابع get_pages_data برای استخراج اطلاعات لینک هایی که به صورت یک لیست به آن داده می شود، استفاده می شود.\n",
        "</p>"
      ]
    },
    {
      "cell_type": "code",
      "execution_count": null,
      "metadata": {
        "id": "uw8uJFzJhTLo"
      },
      "outputs": [],
      "source": [
        "from bs4 import BeautifulSoup\n",
        "import requests\n",
        "from tqdm import tqdm\n",
        "import pandas as pd"
      ]
    },
    {
      "cell_type": "code",
      "execution_count": null,
      "metadata": {
        "id": "iC5F-wFdJoEX"
      },
      "outputs": [],
      "source": [
        "pd.set_option('display.max_colwidth', None)"
      ]
    },
    {
      "cell_type": "code",
      "execution_count": null,
      "metadata": {
        "id": "SGp-J2FBhbhf"
      },
      "outputs": [],
      "source": [
        "def get_urls(input_urls: list)-> list:\n",
        "  output_urls = []\n",
        "\n",
        "  for url in input_urls:\n",
        "    html_text = requests.get(url).text\n",
        "    soup = BeautifulSoup(html_text, 'lxml')\n",
        "    urls_section_div = soup.find_all('div', class_='mw-category mw-category-columns')\n",
        "    a_tags = urls_section_div[1].find_all('a')\n",
        "\n",
        "    for a in a_tags:\n",
        "      output_urls.append('https://fa.wikipedia.org' + a.get('href'))\n",
        "\n",
        "\n",
        "  return output_urls"
      ]
    },
    {
      "cell_type": "code",
      "execution_count": null,
      "metadata": {
        "id": "7vuz9Vlmhky5"
      },
      "outputs": [],
      "source": [
        "def get_pages_data(urls: list)-> list:\n",
        "  pages_data = []\n",
        "\n",
        "  for url in tqdm(urls):\n",
        "      html_text = requests.get(url).text\n",
        "      soup = BeautifulSoup(html_text, 'lxml')\n",
        "      div_content = soup.find('div', class_='mw-parser-output')\n",
        "      p_tags = div_content.find_all('p')\n",
        "\n",
        "      for paragraph in p_tags:\n",
        "        text = paragraph.get_text(separator=' ', strip = True)\n",
        "        if len(text) > 0:\n",
        "          pages_data.append(text)\n",
        "\n",
        "  return pages_data"
      ]
    },
    {
      "cell_type": "code",
      "execution_count": null,
      "metadata": {
        "id": "SYDWtHWljVQ7"
      },
      "outputs": [],
      "source": [
        "source_urls = ['https://fa.wikipedia.org/wiki/%D8%B1%D8%AF%D9%87:%D8%A8%DB%8C%D9%88%D8%A7%D9%86%D9%81%D9%88%D8%B1%D9%85%D8%A7%D8%AA%DB%8C%DA%A9',\n",
        "               'https://fa.wikipedia.org/wiki/%D8%B1%D8%AF%D9%87:%DA%98%D9%86%D8%AA%DB%8C%DA%A9',\n",
        "               'https://fa.wikipedia.org/w/index.php?title=%D8%B1%D8%AF%D9%87:%DA%98%D9%86%D8%AA%DB%8C%DA%A9&pagefrom=%DA%AF%D8%B1%D8%A7%DB%8C%D8%B4+%D8%AC%D9%86%D8%B3%DB%8C+%D9%88+%D8%B2%DB%8C%D8%B3%D8%AA%E2%80%8C%D8%B4%D9%86%D8%A7%D8%B3%DB%8C#mw-pages',\n",
        "               'https://fa.wikipedia.org/wiki/%D8%B1%D8%AF%D9%87:%D8%B2%DB%8C%D8%B3%D8%AA%E2%80%8C%D8%B4%D9%86%D8%A7%D8%B3%DB%8C_%D9%85%D9%88%D9%84%DA%A9%D9%88%D9%84%DB%8C',\n",
        "               'https://fa.wikipedia.org/w/index.php?title=%D8%B1%D8%AF%D9%87:%D8%B2%DB%8C%D8%B3%D8%AA%E2%80%8C%D8%B4%D9%86%D8%A7%D8%B3%DB%8C_%D9%85%D9%88%D9%84%DA%A9%D9%88%D9%84%DB%8C&pagefrom=%D9%86%D9%82%D8%B4%D9%87+%DA%98%D9%86#mw-pages'\n",
        "               ]\n",
        "\n",
        "urls = get_urls(source_urls)"
      ]
    },
    {
      "cell_type": "code",
      "execution_count": null,
      "metadata": {
        "colab": {
          "base_uri": "https://localhost:8080/"
        },
        "id": "9aNws3z9y-e4",
        "outputId": "8090d4ef-cdca-43df-c139-b0e025664a4c"
      },
      "outputs": [
        {
          "data": {
            "text/plain": [
              "609"
            ]
          },
          "execution_count": 7,
          "metadata": {},
          "output_type": "execute_result"
        }
      ],
      "source": [
        "len(urls)"
      ]
    },
    {
      "cell_type": "code",
      "execution_count": null,
      "metadata": {
        "id": "ej-quom4vxMu"
      },
      "outputs": [],
      "source": [
        "df_urls = pd.DataFrame(urls)"
      ]
    },
    {
      "cell_type": "code",
      "execution_count": null,
      "metadata": {
        "id": "6YuT_Kz-yCYM"
      },
      "outputs": [],
      "source": [
        "df_urls.to_csv('urls.csv')"
      ]
    },
    {
      "cell_type": "code",
      "execution_count": null,
      "metadata": {
        "colab": {
          "base_uri": "https://localhost:8080/"
        },
        "id": "VQY3bJrvjlQx",
        "outputId": "66900a5a-d06b-41c6-a36c-2102ca3f4455"
      },
      "outputs": [
        {
          "name": "stderr",
          "output_type": "stream",
          "text": [
            "100%|██████████| 609/609 [03:16<00:00,  3.11it/s]\n"
          ]
        }
      ],
      "source": [
        "data = get_pages_data(urls)"
      ]
    },
    {
      "cell_type": "code",
      "execution_count": null,
      "metadata": {
        "id": "l03IrFBznu-0"
      },
      "outputs": [],
      "source": [
        "df = pd.DataFrame(data=data,columns=['text'])"
      ]
    },
    {
      "cell_type": "code",
      "execution_count": null,
      "metadata": {
        "id": "HUDqZ1z90QGl"
      },
      "outputs": [],
      "source": [
        "df.to_csv('wiki_bio_unclean.csv')"
      ]
    },
    {
      "cell_type": "code",
      "execution_count": null,
      "metadata": {
        "id": "O3b_OQ3c8UT3"
      },
      "outputs": [],
      "source": []
    },
    {
      "cell_type": "code",
      "execution_count": null,
      "metadata": {
        "id": "H5UQtpWH8URp"
      },
      "outputs": [],
      "source": []
    },
    {
      "cell_type": "code",
      "execution_count": null,
      "metadata": {
        "id": "0adYlDwm8UO-"
      },
      "outputs": [],
      "source": []
    },
    {
      "cell_type": "code",
      "execution_count": null,
      "metadata": {
        "id": "SJ4yiAkB8UJ1"
      },
      "outputs": [],
      "source": []
    },
    {
      "cell_type": "code",
      "execution_count": null,
      "metadata": {
        "id": "vGOMXfcR8UHk"
      },
      "outputs": [],
      "source": []
    },
    {
      "cell_type": "code",
      "execution_count": null,
      "metadata": {
        "id": "Hg1_0QFon44X"
      },
      "outputs": [],
      "source": []
    }
  ],
  "metadata": {
    "colab": {
      "provenance": []
    },
    "kernelspec": {
      "display_name": "Python 3",
      "name": "python3"
    },
    "language_info": {
      "name": "python"
    }
  },
  "nbformat": 4,
  "nbformat_minor": 0
}
